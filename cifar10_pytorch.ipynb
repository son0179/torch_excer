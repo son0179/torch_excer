{
 "cells": [
  {
   "cell_type": "code",
   "execution_count": 124,
   "metadata": {},
   "outputs": [
    {
     "name": "stdout",
     "output_type": "stream",
     "text": [
      "cuda:0\n"
     ]
    }
   ],
   "source": [
    "import torch\n",
    "device = torch.device(\"cuda:0\" if torch.cuda.is_available() else \"cpu\")\n",
    "\n",
    "print(device)"
   ]
  },
  {
   "cell_type": "code",
   "execution_count": 125,
   "metadata": {},
   "outputs": [
    {
     "name": "stdout",
     "output_type": "stream",
     "text": [
      "Clear previously loaded data.\n",
      "Training data shape:  (50000, 3, 32, 32)\n",
      "Training labels shape:  (50000,)\n",
      "Test data shape:  (10000, 3, 32, 32)\n",
      "Test labels shape:  (10000,)\n"
     ]
    }
   ],
   "source": [
    "from load_data import load_CIFAR10\n",
    "\n",
    "cifar10_dir = \"cifar-10-batches-py\"\n",
    "\n",
    "\n",
    "try:\n",
    "   del X_train, y_train\n",
    "   del X_test, y_test\n",
    "   print('Clear previously loaded data.')\n",
    "except:\n",
    "   pass\n",
    "\n",
    "X_tra, y_tra, X_te, y_te = load_CIFAR10(cifar10_dir)\n",
    "\n",
    "print('Training data shape: ', X_tra.shape)\n",
    "print('Training labels shape: ', y_tra.shape)\n",
    "print('Test data shape: ', X_te.shape)\n",
    "print('Test labels shape: ', y_te.shape)"
   ]
  },
  {
   "cell_type": "code",
   "execution_count": 126,
   "metadata": {},
   "outputs": [],
   "source": [
    "import numpy as np\n",
    "\n",
    "X_val = X_tra[40000:]\n",
    "y_val = y_tra[40000:]\n",
    "X_tra = X_tra[:40000]\n",
    "y_tra = y_tra[:40000]\n",
    "\n",
    "\n",
    "mini_batch = 625\n",
    "X_tra =  np.array(np.vsplit(X_tra,X_tra.shape[0]/mini_batch))\n",
    "y_tra =  np.array(np.split(y_tra,y_tra.shape[0]/mini_batch))\n",
    "X_val =  np.array(np.vsplit(X_val,X_val.shape[0]/mini_batch))\n",
    "y_val =  np.array(np.split(y_val,y_val.shape[0]/mini_batch))\n",
    "X_te =  np.array(np.vsplit(X_te,X_te.shape[0]/mini_batch))\n",
    "y_te =  np.array(np.split(y_te,y_te.shape[0]/mini_batch))"
   ]
  },
  {
   "cell_type": "code",
   "execution_count": 127,
   "metadata": {},
   "outputs": [
    {
     "name": "stdout",
     "output_type": "stream",
     "text": [
      "Training data shape:  torch.Size([64, 625, 3, 32, 32])\n",
      "Training labels shape:  torch.Size([64, 625])\n",
      "Training data shape:  torch.Size([16, 625, 3, 32, 32])\n",
      "Training labels shape:  torch.Size([16, 625])\n",
      "Test data shape:  torch.Size([16, 625, 3, 32, 32])\n",
      "Test labels shape:  torch.Size([16, 625])\n"
     ]
    }
   ],
   "source": [
    "import torch\n",
    "classes = ['plane', 'car', 'bird', 'cat','deer', 'dog', 'frog', 'horse', 'ship', 'truck']\n",
    "X_train = torch.from_numpy(X_tra)\n",
    "y_train = torch.from_numpy(y_tra)\n",
    "X_vali = torch.from_numpy(X_val)\n",
    "y_vali = torch.from_numpy(y_val)\n",
    "X_test = torch.from_numpy(X_te)\n",
    "y_test = torch.from_numpy(y_te)\n",
    "\n",
    "X_val = X_train[40000 : ]\n",
    "y_val = y_train[40000 : ]\n",
    "\n",
    "\n",
    "N,B,C,H,W=X_train.shape\n",
    "print('Training data shape: ', X_train.shape)\n",
    "print('Training labels shape: ', y_train.shape)\n",
    "print('Training data shape: ', X_vali.shape)\n",
    "print('Training labels shape: ', y_vali.shape)\n",
    "print('Test data shape: ', X_test.shape)\n",
    "print('Test labels shape: ', y_test.shape)"
   ]
  },
  {
   "cell_type": "code",
   "execution_count": 5,
   "metadata": {},
   "outputs": [
    {
     "name": "stdout",
     "output_type": "stream",
     "text": [
      "tensor([[[ 59.,  43.,  50.,  ..., 158., 152., 148.],\n",
      "         [ 16.,   0.,  18.,  ..., 123., 119., 122.],\n",
      "         [ 25.,  16.,  49.,  ..., 118., 120., 109.],\n",
      "         ...,\n",
      "         [208., 201., 198.,  ..., 160.,  56.,  53.],\n",
      "         [180., 173., 186.,  ..., 184.,  97.,  83.],\n",
      "         [177., 168., 179.,  ..., 216., 151., 123.]],\n",
      "\n",
      "        [[ 62.,  46.,  48.,  ..., 132., 125., 124.],\n",
      "         [ 20.,   0.,   8.,  ...,  88.,  83.,  87.],\n",
      "         [ 24.,   7.,  27.,  ...,  84.,  84.,  73.],\n",
      "         ...,\n",
      "         [170., 153., 161.,  ..., 133.,  31.,  34.],\n",
      "         [139., 123., 144.,  ..., 148.,  62.,  53.],\n",
      "         [144., 129., 142.,  ..., 184., 118.,  92.]],\n",
      "\n",
      "        [[ 63.,  45.,  43.,  ..., 108., 102., 103.],\n",
      "         [ 20.,   0.,   0.,  ...,  55.,  50.,  57.],\n",
      "         [ 21.,   0.,   8.,  ...,  50.,  50.,  42.],\n",
      "         ...,\n",
      "         [ 96.,  34.,  26.,  ...,  70.,   7.,  20.],\n",
      "         [ 96.,  42.,  30.,  ...,  94.,  34.,  34.],\n",
      "         [116.,  94.,  87.,  ..., 140.,  84.,  72.]]])\n"
     ]
    }
   ],
   "source": [
    "print(X_train[0][0])\n"
   ]
  },
  {
   "cell_type": "code",
   "execution_count": null,
   "metadata": {},
   "outputs": [],
   "source": []
  },
  {
   "cell_type": "code",
   "execution_count": 128,
   "metadata": {},
   "outputs": [
    {
     "data": {
      "text/plain": [
       "Net(\n",
       "  (conv1): Conv2d(3, 10, kernel_size=(5, 5), stride=(1, 1))\n",
       "  (pool): MaxPool2d(kernel_size=2, stride=2, padding=0, dilation=1, ceil_mode=False)\n",
       "  (conv2): Conv2d(10, 20, kernel_size=(5, 5), stride=(1, 1))\n",
       "  (fc1): Linear(in_features=500, out_features=120, bias=True)\n",
       "  (fc2): Linear(in_features=120, out_features=84, bias=True)\n",
       "  (fc3): Linear(in_features=84, out_features=10, bias=True)\n",
       ")"
      ]
     },
     "execution_count": 128,
     "metadata": {},
     "output_type": "execute_result"
    }
   ],
   "source": [
    "import torch.nn as nn\n",
    "import torch.nn.functional as F\n",
    "\n",
    "\n",
    "class Net(nn.Module):\n",
    "    def __init__(self):\n",
    "        super(Net, self).__init__()\n",
    "        self.conv1 = nn.Conv2d(3 , 10 ,5) #, padding='valid', input_shape=(C,H,W), activation='relu')\n",
    "        self.pool = nn.MaxPool2d(2, 2)\n",
    "        self.conv2 = nn.Conv2d(10, 20 , 5 ) #,padding='valid', input_shape=(20,H-5+1,W-5+1), activation='relu')\n",
    "        self.fc1 = nn.Linear(500, 120)\n",
    "        self.fc2 = nn.Linear(120, 84)\n",
    "        self.fc3 = nn.Linear(84, 10)\n",
    "\n",
    "    def forward(self, x):\n",
    "        x = self.pool(F.relu(self.conv1(x)))\n",
    "        x = self.pool(F.relu(self.conv2(x)))\n",
    "        x = x.view(-1, 500)\n",
    "        #x = x.long()\n",
    "        x = F.relu(self.fc1(x))\n",
    "        x = F.relu(self.fc2(x))\n",
    "        x = self.fc3(x)\n",
    "        return x\n",
    "\n",
    "\n",
    "net = Net()\n",
    "\n",
    "net.to(device)"
   ]
  },
  {
   "cell_type": "code",
   "execution_count": 137,
   "metadata": {},
   "outputs": [
    {
     "name": "stdout",
     "output_type": "stream",
     "text": [
      "7.041174241789824e-05\n",
      "SGD (\n",
      "Parameter Group 0\n",
      "    dampening: 0\n",
      "    lr: 7.041174241789824e-05\n",
      "    momentum: 0.99\n",
      "    nesterov: False\n",
      "    weight_decay: 0\n",
      ")\n"
     ]
    }
   ],
   "source": [
    "import torch.optim as optim\n",
    "import random\n",
    "criterion = nn.CrossEntropyLoss()\n",
    "\n",
    "# learning rate 값 찾기\n",
    "power = random.uniform(-3,-6)\n",
    "\n",
    "\n",
    "learning_rate = 10 ** power\n",
    "moment = 0.99\n",
    "\n",
    "optimizer = optim.SGD(net.parameters(), lr=learning_rate, momentum=0.99)\n",
    "optimizer.zero_grad()\n",
    "\n",
    "print(learning_rate)\n",
    "print(optimizer)"
   ]
  },
  {
   "cell_type": "code",
   "execution_count": 138,
   "metadata": {},
   "outputs": [
    {
     "name": "stdout",
     "output_type": "stream",
     "text": [
      "val acurr :  0.3813 // train acurr :  0.37145 // learning rate :  7.041174241789824e-05\n",
      "val acurr :  0.4148 // train acurr :  0.3957 // learning rate :  7.041174241789824e-05\n",
      "val acurr :  0.4313 // train acurr :  0.415975 // learning rate :  7.041174241789824e-05\n",
      "val acurr :  0.4438 // train acurr :  0.4295 // learning rate :  7.041174241789824e-05\n",
      "val acurr :  0.4554 // train acurr :  0.450325 // learning rate :  7.041174241789824e-05\n",
      "val acurr :  0.4717 // train acurr :  0.46435 // learning rate :  7.041174241789824e-05\n",
      "val acurr :  0.4714 // train acurr :  0.477975 // learning rate :  7.041174241789824e-05\n",
      "val acurr :  0.4899 // train acurr :  0.487175 // learning rate :  7.041174241789824e-05\n",
      "val acurr :  0.4974 // train acurr :  0.50035 // learning rate :  7.041174241789824e-05\n",
      "val acurr :  0.5036 // train acurr :  0.510825 // learning rate :  7.041174241789824e-05\n",
      "val acurr :  0.5123 // train acurr :  0.522775 // learning rate :  7.041174241789824e-05\n",
      "val acurr :  0.5147 // train acurr :  0.52835 // learning rate :  7.041174241789824e-05\n",
      "val acurr :  0.5181 // train acurr :  0.52815 // learning rate :  7.041174241789824e-05\n",
      "val acurr :  0.5241 // train acurr :  0.532725 // learning rate :  7.041174241789824e-05\n",
      "val acurr :  0.5278 // train acurr :  0.5426 // learning rate :  7.041174241789824e-05\n",
      "val acurr :  0.5323 // train acurr :  0.54975 // learning rate :  7.041174241789824e-05\n",
      "val acurr :  0.5376 // train acurr :  0.553425 // learning rate :  7.041174241789824e-05\n",
      "val acurr :  0.5469 // train acurr :  0.557275 // learning rate :  7.041174241789824e-05\n",
      "val acurr :  0.5524 // train acurr :  0.563375 // learning rate :  7.041174241789824e-05\n",
      "val acurr :  0.5529 // train acurr :  0.569325 // learning rate :  7.041174241789824e-05\n",
      "val acurr :  0.5526 // train acurr :  0.5741 // learning rate :  7.041174241789824e-05\n",
      "val acurr :  0.5538 // train acurr :  0.579825 // learning rate :  7.041174241789824e-05\n",
      "val acurr :  0.5534 // train acurr :  0.5816 // learning rate :  7.041174241789824e-05\n",
      "val acurr :  0.5591 // train acurr :  0.58315 // learning rate :  7.041174241789824e-05\n",
      "val acurr :  0.5633 // train acurr :  0.58745 // learning rate :  7.041174241789824e-05\n",
      "val acurr :  0.5685 // train acurr :  0.5917 // learning rate :  7.041174241789824e-05\n",
      "val acurr :  0.5651 // train acurr :  0.595125 // learning rate :  7.041174241789824e-05\n",
      "val acurr :  0.5651 // train acurr :  0.5973 // learning rate :  7.041174241789824e-05\n",
      "val acurr :  0.5738 // train acurr :  0.599575 // learning rate :  7.041174241789824e-05\n",
      "val acurr :  0.567 // train acurr :  0.605475 // learning rate :  7.041174241789824e-05\n",
      "val acurr :  0.575 // train acurr :  0.6055 // learning rate :  7.041174241789824e-05\n",
      "val acurr :  0.5608 // train acurr :  0.60285 // learning rate :  7.041174241789824e-05\n",
      "val acurr :  0.576 // train acurr :  0.607775 // learning rate :  7.041174241789824e-05\n",
      "val acurr :  0.5771 // train acurr :  0.61425 // learning rate :  7.041174241789824e-05\n",
      "val acurr :  0.5682 // train acurr :  0.6131 // learning rate :  7.041174241789824e-05\n",
      "val acurr :  0.5724 // train acurr :  0.609125 // learning rate :  7.041174241789824e-05\n",
      "val acurr :  0.5777 // train acurr :  0.61485 // learning rate :  7.041174241789824e-05\n",
      "val acurr :  0.5839 // train acurr :  0.617575 // learning rate :  7.041174241789824e-05\n",
      "val acurr :  0.56 // train acurr :  0.61775 // learning rate :  7.041174241789824e-05\n",
      "val acurr :  0.5742 // train acurr :  0.618825 // learning rate :  7.041174241789824e-05\n",
      "val acurr :  0.5853 // train acurr :  0.625775 // learning rate :  7.041174241789824e-05\n",
      "val acurr :  0.5933 // train acurr :  0.628575 // learning rate :  7.041174241789824e-05\n",
      "val acurr :  0.5869 // train acurr :  0.626875 // learning rate :  7.041174241789824e-05\n",
      "val acurr :  0.5957 // train acurr :  0.63225 // learning rate :  7.041174241789824e-05\n",
      "val acurr :  0.5892 // train acurr :  0.6346 // learning rate :  7.041174241789824e-05\n",
      "val acurr :  0.5772 // train acurr :  0.622275 // learning rate :  7.041174241789824e-05\n",
      "val acurr :  0.5935 // train acurr :  0.633825 // learning rate :  7.041174241789824e-05\n",
      "val acurr :  0.5968 // train acurr :  0.6437 // learning rate :  7.041174241789824e-05\n",
      "val acurr :  0.5983 // train acurr :  0.642225 // learning rate :  7.041174241789824e-05\n",
      "val acurr :  0.5968 // train acurr :  0.64955 // learning rate :  7.041174241789824e-05\n",
      "val acurr :  0.5979 // train acurr :  0.649 // learning rate :  7.041174241789824e-05\n",
      "val acurr :  0.601 // train acurr :  0.65285 // learning rate :  7.041174241789824e-05\n",
      "val acurr :  0.6082 // train acurr :  0.653575 // learning rate :  7.041174241789824e-05\n",
      "val acurr :  0.606 // train acurr :  0.657525 // learning rate :  7.041174241789824e-05\n",
      "val acurr :  0.6065 // train acurr :  0.663975 // learning rate :  7.041174241789824e-05\n",
      "val acurr :  0.6072 // train acurr :  0.669725 // learning rate :  7.041174241789824e-05\n",
      "val acurr :  0.6083 // train acurr :  0.67365 // learning rate :  7.041174241789824e-05\n",
      "val acurr :  0.6129 // train acurr :  0.67755 // learning rate :  7.041174241789824e-05\n",
      "val acurr :  0.6154 // train acurr :  0.682025 // learning rate :  7.041174241789824e-05\n",
      "val acurr :  0.6189 // train acurr :  0.684625 // learning rate :  7.041174241789824e-05\n",
      "val acurr :  0.6177 // train acurr :  0.686225 // learning rate :  7.041174241789824e-05\n",
      "val acurr :  0.6211 // train acurr :  0.688725 // learning rate :  7.041174241789824e-05\n",
      "val acurr :  0.6224 // train acurr :  0.693025 // learning rate :  7.041174241789824e-05\n",
      "val acurr :  0.623 // train acurr :  0.692025 // learning rate :  7.041174241789824e-05\n",
      "val acurr :  0.6204 // train acurr :  0.691325 // learning rate :  7.041174241789824e-05\n",
      "val acurr :  0.6162 // train acurr :  0.6894 // learning rate :  7.041174241789824e-05\n",
      "val acurr :  0.6103 // train acurr :  0.686025 // learning rate :  7.041174241789824e-05\n",
      "val acurr :  0.6078 // train acurr :  0.68405 // learning rate :  7.041174241789824e-05\n",
      "val acurr :  0.62 // train acurr :  0.685375 // learning rate :  7.041174241789824e-05\n",
      "val acurr :  0.6177 // train acurr :  0.688575 // learning rate :  7.041174241789824e-05\n",
      "val acurr :  0.6171 // train acurr :  0.6919 // learning rate :  7.041174241789824e-05\n",
      "val acurr :  0.615 // train acurr :  0.69795 // learning rate :  7.041174241789824e-05\n",
      "val acurr :  0.6173 // train acurr :  0.697675 // learning rate :  7.041174241789824e-05\n",
      "val acurr :  0.6163 // train acurr :  0.700975 // learning rate :  7.041174241789824e-05\n",
      "val acurr :  0.6044 // train acurr :  0.69405 // learning rate :  7.041174241789824e-05\n",
      "val acurr :  0.585 // train acurr :  0.670675 // learning rate :  7.041174241789824e-05\n",
      "val acurr :  0.5884 // train acurr :  0.66775 // learning rate :  7.041174241789824e-05\n",
      "val acurr :  0.5825 // train acurr :  0.6789 // learning rate :  7.041174241789824e-05\n",
      "val acurr :  0.6027 // train acurr :  0.658775 // learning rate :  7.041174241789824e-05\n",
      "val acurr :  0.6095 // train acurr :  0.677275 // learning rate :  7.041174241789824e-05\n",
      "val acurr :  0.6066 // train acurr :  0.6929 // learning rate :  7.041174241789824e-05\n",
      "val acurr :  0.6025 // train acurr :  0.686975 // learning rate :  7.041174241789824e-05\n",
      "val acurr :  0.6162 // train acurr :  0.6952 // learning rate :  7.041174241789824e-05\n",
      "val acurr :  0.6166 // train acurr :  0.70045 // learning rate :  7.041174241789824e-05\n",
      "val acurr :  0.5792 // train acurr :  0.6861 // learning rate :  7.041174241789824e-05\n",
      "val acurr :  0.6016 // train acurr :  0.6693 // learning rate :  7.041174241789824e-05\n",
      "val acurr :  0.608 // train acurr :  0.70085 // learning rate :  7.041174241789824e-05\n",
      "val acurr :  0.6117 // train acurr :  0.71015 // learning rate :  7.041174241789824e-05\n",
      "val acurr :  0.5923 // train acurr :  0.709525 // learning rate :  7.041174241789824e-05\n",
      "val acurr :  0.5953 // train acurr :  0.70275 // learning rate :  7.041174241789824e-05\n",
      "val acurr :  0.6002 // train acurr :  0.704125 // learning rate :  7.041174241789824e-05\n",
      "val acurr :  0.6121 // train acurr :  0.70935 // learning rate :  7.041174241789824e-05\n",
      "val acurr :  0.6227 // train acurr :  0.716375 // learning rate :  7.041174241789824e-05\n"
     ]
    },
    {
     "name": "stdout",
     "output_type": "stream",
     "text": [
      "val acurr :  0.6173 // train acurr :  0.723625 // learning rate :  7.041174241789824e-05\n",
      "val acurr :  0.614 // train acurr :  0.73145 // learning rate :  7.041174241789824e-05\n",
      "val acurr :  0.6091 // train acurr :  0.73455 // learning rate :  7.041174241789824e-05\n",
      "val acurr :  0.6158 // train acurr :  0.7311 // learning rate :  7.041174241789824e-05\n",
      "val acurr :  0.6093 // train acurr :  0.729375 // learning rate :  7.041174241789824e-05\n",
      "val acurr :  0.6168 // train acurr :  0.726325 // learning rate :  7.041174241789824e-05\n",
      "val acurr :  0.6101 // train acurr :  0.728 // learning rate :  7.041174241789824e-05\n",
      "Finished Training\n"
     ]
    }
   ],
   "source": [
    "\n",
    "for epoch in range(100):   # 데이터셋을 수차례 반복합니다.\n",
    "    \n",
    "    total_tra = 0\n",
    "    correct_tra = 0\n",
    "    running_loss = 0.0\n",
    "    # train 데이터 이용한 학습\n",
    "    for i in range(X_train.shape[0]):\n",
    "        inputs = X_train[i].to(device)\n",
    "        labels = y_train[i].to(device)\n",
    "\n",
    "        # 변화도(Gradient) 매개변수를 0으로 만들고\n",
    "        optimizer.zero_grad()\n",
    "\n",
    "        outputs = net(inputs)\n",
    "        \n",
    "        _, predicted = torch.max(outputs.data, 1)\n",
    "        total_tra += labels.shape[0]\n",
    "        correct_tra += (predicted == labels).sum().item()\n",
    "        \n",
    "        loss = criterion(outputs, labels)\n",
    "        loss.backward()\n",
    "        optimizer.step()\n",
    "\n",
    "        # 통계를 출력합니다.\n",
    "        running_loss += loss.item()\n",
    "        if i % 8 == 7:    # print every 2000 mini-batches\n",
    "            #print('[%d, %5d] loss: %.3f' %(epoch + 1, i + 1, running_loss /batch_size))\n",
    "            running_loss = 0.0\n",
    "            \n",
    "    total_val = 0\n",
    "    correct_val = 0\n",
    "    for i in range(X_vali.shape[0]):\n",
    "        inputs = X_vali[i].to(device)\n",
    "        labels = y_vali[i].to(device)\n",
    "        \n",
    "        outputs = net(inputs)\n",
    "        _, predicted = torch.max(outputs.data, 1)\n",
    "        total_val += labels.shape[0]\n",
    "        correct_val += (predicted == labels).sum().item()\n",
    "    print(\"val acurr : \", correct_val/total_val ,end = \" // \")\n",
    "    print(\"train acurr : \", correct_tra/total_tra ,end = \" // \")\n",
    "    print(\"learning rate : \", learning_rate)\n",
    "print('Finished Training')"
   ]
  },
  {
   "cell_type": "code",
   "execution_count": 116,
   "metadata": {},
   "outputs": [],
   "source": [
    "PATH = './cifar_net.pth'\n",
    "torch.save(net.state_dict(), PATH)\n"
   ]
  },
  {
   "cell_type": "code",
   "execution_count": 139,
   "metadata": {},
   "outputs": [
    {
     "data": {
      "image/png": "[encoded data removed]",
      "text/plain": [
       "<Figure size 432x288 with 1 Axes>"
      ]
     },
     "metadata": {
      "needs_background": "light"
     },
     "output_type": "display_data"
    },
    {
     "name": "stdout",
     "output_type": "stream",
     "text": [
      "ans :  plane\n"
     ]
    },
    {
     "data": {
      "image/png": "[encoded data removed]",
      "text/plain": [
       "<Figure size 432x288 with 1 Axes>"
      ]
     },
     "metadata": {
      "needs_background": "light"
     },
     "output_type": "display_data"
    },
    {
     "name": "stdout",
     "output_type": "stream",
     "text": [
      "ans :  dog\n",
      "predict : plane dog\n"
     ]
    }
   ],
   "source": [
    "import matplotlib.pyplot as plt\n",
    "import numpy as np\n",
    "\n",
    "# 이미지를 보여주기 위한 함수\n",
    "\n",
    "def imshow(img):\n",
    "    img = img / 2 + 0.5     # unnormalize\n",
    "    #npimg = img.numpy()\n",
    "    #print(img)\n",
    "    plt.imshow(np.transpose(img.astype(\"int\"), (1, 2, 0)))\n",
    "    plt.show()\n",
    "\n",
    "\n",
    "# 학습용 이미지를 무작위로 가져오기\n",
    "images=[]\n",
    "for k in range(2):\n",
    "    i = random.randint(1,64)\n",
    "    j = random.randint(1,625)\n",
    "    images.append(X_tra[i][j])\n",
    "    imshow(X_tra[i][j])\n",
    "    print(\"ans : \",classes[y_tra[i][j]])\n",
    "\n",
    "images=torch.tensor(images).to(device)\n",
    "output = net(images)\n",
    "_, predicted = torch.max(output, 1)\n",
    "print(\"predict :\" ,classes[predicted[0]],classes[predicted[1]])\n",
    "\n"
   ]
  },
  {
   "cell_type": "code",
   "execution_count": 140,
   "metadata": {},
   "outputs": [
    {
     "name": "stdout",
     "output_type": "stream",
     "text": [
      "Accuracy of the network on the 10000 test images: 60.320000 %\n"
     ]
    }
   ],
   "source": [
    "correct = 0\n",
    "total = 0\n",
    "with torch.no_grad():\n",
    "    for i in range(X_test.shape[0]):\n",
    "        images = X_test[i].to(device)\n",
    "        labels = y_test[i].to(device)\n",
    "        outputs = net(images)\n",
    "        _, predicted = torch.max(outputs.data, 1)\n",
    "        total += labels.shape[0]\n",
    "        correct += (predicted == labels).sum().item()\n",
    "\n",
    "print('Accuracy of the network on the 10000 test images: %f %%' % (\n",
    "    100 * correct / total))"
   ]
  },
  {
   "cell_type": "code",
   "execution_count": 141,
   "metadata": {},
   "outputs": [
    {
     "name": "stdout",
     "output_type": "stream",
     "text": [
      "class :  plane  //  acur :  0.639\n",
      "class :  car  //  acur :  0.808\n",
      "class :  bird  //  acur :  0.473\n",
      "class :  cat  //  acur :  0.466\n",
      "class :  deer  //  acur :  0.59\n",
      "class :  dog  //  acur :  0.527\n",
      "class :  frog  //  acur :  0.679\n",
      "class :  horse  //  acur :  0.568\n",
      "class :  ship  //  acur :  0.731\n",
      "class :  truck  //  acur :  0.551\n"
     ]
    }
   ],
   "source": [
    "class_correct = np.zeros(10)\n",
    "class_total = np.zeros(10)\n",
    "with torch.no_grad():\n",
    "    for i in range(X_test.shape[0]):\n",
    "        images = X_test[i].to(device)\n",
    "        labels = y_test[i].to(device)\n",
    "        outputs = net(images)\n",
    "        _, predicted = torch.max(outputs.data, 1)\n",
    "        for j in range(labels.shape[0]):\n",
    "            class_total[labels[j]] += 1\n",
    "            if labels[j] == predicted[j]:\n",
    "                class_correct[labels[j]] += 1\n",
    "\n",
    "for i in range(10):         \n",
    "    print(\"class : \",classes[i] , \" // \", \"acur : \" ,class_correct[i]/class_total[i])\n"
   ]
  },
  {
   "cell_type": "code",
   "execution_count": null,
   "metadata": {},
   "outputs": [],
   "source": []
  }
 ],
 "metadata": {
  "kernelspec": {
   "display_name": "Python 3",
   "language": "python",
   "name": "python3"
  },
  "language_info": {
   "codemirror_mode": {
    "name": "ipython",
    "version": 3
   },
   "file_extension": ".py",
   "mimetype": "text/x-python",
   "name": "python",
   "nbconvert_exporter": "python",
   "pygments_lexer": "ipython3",
   "version": "3.8.5"
  }
 },
 "nbformat": 4,
 "nbformat_minor": 4
}
