{
 "cells": [
  {
   "cell_type": "code",
   "execution_count": 142,
   "metadata": {},
   "outputs": [
    {
     "name": "stdout",
     "output_type": "stream",
     "text": [
      "cuda:0\n"
     ]
    }
   ],
   "source": [
    "import torch\n",
    "device = torch.device(\"cuda:0\" if torch.cuda.is_available() else \"cpu\")\n",
    "\n",
    "print(device)"
   ]
  },
  {
   "cell_type": "code",
   "execution_count": 143,
   "metadata": {},
   "outputs": [
    {
     "name": "stdout",
     "output_type": "stream",
     "text": [
      "Clear previously loaded data.\n",
      "Training data shape:  (50000, 3, 32, 32)\n",
      "Training labels shape:  (50000,)\n",
      "Test data shape:  (10000, 3, 32, 32)\n",
      "Test labels shape:  (10000,)\n"
     ]
    }
   ],
   "source": [
    "from load_data import load_CIFAR10\n",
    "\n",
    "cifar10_dir = \"cifar-10-batches-py\"\n",
    "\n",
    "\n",
    "try:\n",
    "   del X_train, y_train\n",
    "   del X_test, y_test\n",
    "   print('Clear previously loaded data.')\n",
    "except:\n",
    "   pass\n",
    "\n",
    "X_tra, y_tra, X_te, y_te = load_CIFAR10(cifar10_dir)\n",
    "\n",
    "print('Training data shape: ', X_tra.shape)\n",
    "print('Training labels shape: ', y_tra.shape)\n",
    "print('Test data shape: ', X_te.shape)\n",
    "print('Test labels shape: ', y_te.shape)"
   ]
  },
  {
   "cell_type": "code",
   "execution_count": 144,
   "metadata": {},
   "outputs": [],
   "source": [
    "import numpy as np\n",
    "\n",
    "X_val = X_tra[40000:]\n",
    "y_val = y_tra[40000:]\n",
    "X_tra = X_tra[:40000]\n",
    "y_tra = y_tra[:40000]\n",
    "\n",
    "\n",
    "mini_batch = 625\n",
    "X_tra =  np.array(np.vsplit(X_tra,X_tra.shape[0]/mini_batch))\n",
    "y_tra =  np.array(np.split(y_tra,y_tra.shape[0]/mini_batch))\n",
    "X_val =  np.array(np.vsplit(X_val,X_val.shape[0]/mini_batch))\n",
    "y_val =  np.array(np.split(y_val,y_val.shape[0]/mini_batch))\n",
    "X_te =  np.array(np.vsplit(X_te,X_te.shape[0]/mini_batch))\n",
    "y_te =  np.array(np.split(y_te,y_te.shape[0]/mini_batch))"
   ]
  },
  {
   "cell_type": "code",
   "execution_count": 145,
   "metadata": {},
   "outputs": [
    {
     "name": "stdout",
     "output_type": "stream",
     "text": [
      "Training data shape:  torch.Size([64, 625, 3, 32, 32])\n",
      "Training labels shape:  torch.Size([64, 625])\n",
      "Training data shape:  torch.Size([16, 625, 3, 32, 32])\n",
      "Training labels shape:  torch.Size([16, 625])\n",
      "Test data shape:  torch.Size([16, 625, 3, 32, 32])\n",
      "Test labels shape:  torch.Size([16, 625])\n"
     ]
    }
   ],
   "source": [
    "import torch\n",
    "classes = ['plane', 'car', 'bird', 'cat','deer', 'dog', 'frog', 'horse', 'ship', 'truck']\n",
    "X_train = torch.from_numpy(X_tra)\n",
    "y_train = torch.from_numpy(y_tra)\n",
    "X_vali = torch.from_numpy(X_val)\n",
    "y_vali = torch.from_numpy(y_val)\n",
    "X_test = torch.from_numpy(X_te)\n",
    "y_test = torch.from_numpy(y_te)\n",
    "\n",
    "X_val = X_train[40000 : ]\n",
    "y_val = y_train[40000 : ]\n",
    "\n",
    "\n",
    "N,B,C,H,W=X_train.shape\n",
    "print('Training data shape: ', X_train.shape)\n",
    "print('Training labels shape: ', y_train.shape)\n",
    "print('Training data shape: ', X_vali.shape)\n",
    "print('Training labels shape: ', y_vali.shape)\n",
    "print('Test data shape: ', X_test.shape)\n",
    "print('Test labels shape: ', y_test.shape)"
   ]
  },
  {
   "cell_type": "code",
   "execution_count": 146,
   "metadata": {},
   "outputs": [
    {
     "name": "stdout",
     "output_type": "stream",
     "text": [
      "tensor([[[ 59.,  43.,  50.,  ..., 158., 152., 148.],\n",
      "         [ 16.,   0.,  18.,  ..., 123., 119., 122.],\n",
      "         [ 25.,  16.,  49.,  ..., 118., 120., 109.],\n",
      "         ...,\n",
      "         [208., 201., 198.,  ..., 160.,  56.,  53.],\n",
      "         [180., 173., 186.,  ..., 184.,  97.,  83.],\n",
      "         [177., 168., 179.,  ..., 216., 151., 123.]],\n",
      "\n",
      "        [[ 62.,  46.,  48.,  ..., 132., 125., 124.],\n",
      "         [ 20.,   0.,   8.,  ...,  88.,  83.,  87.],\n",
      "         [ 24.,   7.,  27.,  ...,  84.,  84.,  73.],\n",
      "         ...,\n",
      "         [170., 153., 161.,  ..., 133.,  31.,  34.],\n",
      "         [139., 123., 144.,  ..., 148.,  62.,  53.],\n",
      "         [144., 129., 142.,  ..., 184., 118.,  92.]],\n",
      "\n",
      "        [[ 63.,  45.,  43.,  ..., 108., 102., 103.],\n",
      "         [ 20.,   0.,   0.,  ...,  55.,  50.,  57.],\n",
      "         [ 21.,   0.,   8.,  ...,  50.,  50.,  42.],\n",
      "         ...,\n",
      "         [ 96.,  34.,  26.,  ...,  70.,   7.,  20.],\n",
      "         [ 96.,  42.,  30.,  ...,  94.,  34.,  34.],\n",
      "         [116.,  94.,  87.,  ..., 140.,  84.,  72.]]])\n"
     ]
    }
   ],
   "source": [
    "print(X_train[0][0])\n"
   ]
  },
  {
   "cell_type": "code",
   "execution_count": null,
   "metadata": {},
   "outputs": [],
   "source": []
  },
  {
   "cell_type": "code",
   "execution_count": 174,
   "metadata": {},
   "outputs": [
    {
     "data": {
      "text/plain": [
       "Net(\n",
       "  (conv1): Conv2d(3, 10, kernel_size=(5, 5), stride=(1, 1))\n",
       "  (pool): MaxPool2d(kernel_size=2, stride=2, padding=0, dilation=1, ceil_mode=False)\n",
       "  (conv2): Conv2d(10, 20, kernel_size=(5, 5), stride=(1, 1))\n",
       "  (fc1): Linear(in_features=500, out_features=120, bias=True)\n",
       "  (fc2): Linear(in_features=120, out_features=84, bias=True)\n",
       "  (fc3): Linear(in_features=84, out_features=10, bias=True)\n",
       ")"
      ]
     },
     "execution_count": 174,
     "metadata": {},
     "output_type": "execute_result"
    }
   ],
   "source": [
    "import torch.nn as nn\n",
    "import torch.nn.functional as F\n",
    "\n",
    "\n",
    "class Net(nn.Module):\n",
    "    def __init__(self):\n",
    "        super(Net, self).__init__()\n",
    "        self.conv1 = nn.Conv2d(3 , 10 ,5) #, padding='valid', input_shape=(C,H,W), activation='relu')\n",
    "        self.pool = nn.MaxPool2d(2, 2)\n",
    "        self.conv2 = nn.Conv2d(10, 20 , 5 ) #,padding='valid', input_shape=(20,H-5+1,W-5+1), activation='relu')\n",
    "        self.fc1 = nn.Linear(500, 120)\n",
    "        self.fc2 = nn.Linear(120, 84)\n",
    "        self.fc3 = nn.Linear(84, 10)\n",
    "\n",
    "    def forward(self, x):\n",
    "        x = self.pool(F.relu(self.conv1(x)))\n",
    "        x = self.pool(F.relu(self.conv2(x)))\n",
    "        x = x.view(-1, 500)\n",
    "        #x = x.long()\n",
    "        x = F.relu(self.fc1(x))\n",
    "        x = F.relu(self.fc2(x))\n",
    "        x = self.fc3(x)\n",
    "        return x\n",
    "\n",
    "\n",
    "net = Net()\n",
    "\n",
    "net.to(device)"
   ]
  },
  {
   "cell_type": "code",
   "execution_count": 186,
   "metadata": {},
   "outputs": [
    {
     "name": "stdout",
     "output_type": "stream",
     "text": [
      "3.7567148797337167e-06\n",
      "SGD (\n",
      "Parameter Group 0\n",
      "    dampening: 0\n",
      "    lr: 3.7567148797337167e-06\n",
      "    momentum: 0.99\n",
      "    nesterov: False\n",
      "    weight_decay: 0\n",
      ")\n"
     ]
    }
   ],
   "source": [
    "import torch.optim as optim\n",
    "import random\n",
    "criterion = nn.CrossEntropyLoss()\n",
    "\n",
    "# learning rate 값 찾기\n",
    "power = random.uniform(-3,-6)\n",
    "\n",
    "\n",
    "learning_rate = 10 ** power\n",
    "moment = 0.99\n",
    "\n",
    "optimizer = optim.SGD(net.parameters(), lr=learning_rate, momentum=0.99)\n",
    "optimizer.zero_grad()\n",
    "\n",
    "print(learning_rate)\n",
    "print(optimizer)"
   ]
  },
  {
   "cell_type": "code",
   "execution_count": 187,
   "metadata": {},
   "outputs": [
    {
     "name": "stdout",
     "output_type": "stream",
     "text": [
      "val acurr :  0.6096 // train acurr :  0.671025 // learning rate :  3.7567148797337167e-06\n",
      "val acurr :  0.6133 // train acurr :  0.66875 // learning rate :  3.7567148797337167e-06\n",
      "val acurr :  0.6137 // train acurr :  0.66925 // learning rate :  3.7567148797337167e-06\n",
      "val acurr :  0.6133 // train acurr :  0.670425 // learning rate :  3.7567148797337167e-06\n",
      "val acurr :  0.6124 // train acurr :  0.6713 // learning rate :  3.7567148797337167e-06\n",
      "val acurr :  0.6118 // train acurr :  0.6736 // learning rate :  3.7567148797337167e-06\n",
      "val acurr :  0.6115 // train acurr :  0.673175 // learning rate :  3.7567148797337167e-06\n",
      "val acurr :  0.611 // train acurr :  0.6735 // learning rate :  3.7567148797337167e-06\n",
      "val acurr :  0.6116 // train acurr :  0.672575 // learning rate :  3.7567148797337167e-06\n",
      "val acurr :  0.6118 // train acurr :  0.673025 // learning rate :  3.7567148797337167e-06\n",
      "val acurr :  0.6119 // train acurr :  0.673325 // learning rate :  3.7567148797337167e-06\n",
      "val acurr :  0.6116 // train acurr :  0.6729 // learning rate :  3.7567148797337167e-06\n",
      "val acurr :  0.612 // train acurr :  0.673575 // learning rate :  3.7567148797337167e-06\n",
      "val acurr :  0.6121 // train acurr :  0.6738 // learning rate :  3.7567148797337167e-06\n",
      "val acurr :  0.6123 // train acurr :  0.6741 // learning rate :  3.7567148797337167e-06\n",
      "val acurr :  0.6121 // train acurr :  0.6742 // learning rate :  3.7567148797337167e-06\n",
      "val acurr :  0.6124 // train acurr :  0.67415 // learning rate :  3.7567148797337167e-06\n",
      "val acurr :  0.6129 // train acurr :  0.674025 // learning rate :  3.7567148797337167e-06\n",
      "val acurr :  0.6124 // train acurr :  0.67425 // learning rate :  3.7567148797337167e-06\n",
      "val acurr :  0.6129 // train acurr :  0.67425 // learning rate :  3.7567148797337167e-06\n",
      "val acurr :  0.6129 // train acurr :  0.674175 // learning rate :  3.7567148797337167e-06\n",
      "val acurr :  0.6129 // train acurr :  0.6742 // learning rate :  3.7567148797337167e-06\n",
      "val acurr :  0.6131 // train acurr :  0.674325 // learning rate :  3.7567148797337167e-06\n",
      "val acurr :  0.6125 // train acurr :  0.674475 // learning rate :  3.7567148797337167e-06\n",
      "val acurr :  0.6129 // train acurr :  0.674775 // learning rate :  3.7567148797337167e-06\n",
      "val acurr :  0.6127 // train acurr :  0.6747 // learning rate :  3.7567148797337167e-06\n",
      "val acurr :  0.6132 // train acurr :  0.67515 // learning rate :  3.7567148797337167e-06\n",
      "val acurr :  0.6128 // train acurr :  0.6755 // learning rate :  3.7567148797337167e-06\n",
      "val acurr :  0.6133 // train acurr :  0.675975 // learning rate :  3.7567148797337167e-06\n",
      "val acurr :  0.6137 // train acurr :  0.675925 // learning rate :  3.7567148797337167e-06\n",
      "val acurr :  0.6138 // train acurr :  0.6759 // learning rate :  3.7567148797337167e-06\n",
      "val acurr :  0.6144 // train acurr :  0.6764 // learning rate :  3.7567148797337167e-06\n",
      "val acurr :  0.6146 // train acurr :  0.6767 // learning rate :  3.7567148797337167e-06\n",
      "val acurr :  0.6133 // train acurr :  0.677025 // learning rate :  3.7567148797337167e-06\n",
      "val acurr :  0.6138 // train acurr :  0.6769 // learning rate :  3.7567148797337167e-06\n",
      "val acurr :  0.6142 // train acurr :  0.677175 // learning rate :  3.7567148797337167e-06\n",
      "val acurr :  0.6142 // train acurr :  0.676975 // learning rate :  3.7567148797337167e-06\n",
      "val acurr :  0.6137 // train acurr :  0.67695 // learning rate :  3.7567148797337167e-06\n",
      "val acurr :  0.6141 // train acurr :  0.6772 // learning rate :  3.7567148797337167e-06\n",
      "val acurr :  0.6138 // train acurr :  0.6771 // learning rate :  3.7567148797337167e-06\n",
      "val acurr :  0.6139 // train acurr :  0.67725 // learning rate :  3.7567148797337167e-06\n",
      "val acurr :  0.6139 // train acurr :  0.67765 // learning rate :  3.7567148797337167e-06\n",
      "val acurr :  0.6144 // train acurr :  0.67775 // learning rate :  3.7567148797337167e-06\n",
      "val acurr :  0.6146 // train acurr :  0.6778 // learning rate :  3.7567148797337167e-06\n",
      "val acurr :  0.6146 // train acurr :  0.677775 // learning rate :  3.7567148797337167e-06\n",
      "val acurr :  0.6146 // train acurr :  0.677925 // learning rate :  3.7567148797337167e-06\n",
      "val acurr :  0.6145 // train acurr :  0.677775 // learning rate :  3.7567148797337167e-06\n",
      "val acurr :  0.6144 // train acurr :  0.678225 // learning rate :  3.7567148797337167e-06\n",
      "val acurr :  0.6146 // train acurr :  0.678275 // learning rate :  3.7567148797337167e-06\n",
      "val acurr :  0.6145 // train acurr :  0.67825 // learning rate :  3.7567148797337167e-06\n",
      "val acurr :  0.6143 // train acurr :  0.6788 // learning rate :  3.7567148797337167e-06\n",
      "val acurr :  0.6145 // train acurr :  0.67895 // learning rate :  3.7567148797337167e-06\n",
      "val acurr :  0.6144 // train acurr :  0.67875 // learning rate :  3.7567148797337167e-06\n",
      "val acurr :  0.6142 // train acurr :  0.67895 // learning rate :  3.7567148797337167e-06\n",
      "val acurr :  0.6143 // train acurr :  0.6786 // learning rate :  3.7567148797337167e-06\n",
      "val acurr :  0.6141 // train acurr :  0.678575 // learning rate :  3.7567148797337167e-06\n",
      "val acurr :  0.6142 // train acurr :  0.67865 // learning rate :  3.7567148797337167e-06\n",
      "val acurr :  0.6145 // train acurr :  0.678725 // learning rate :  3.7567148797337167e-06\n",
      "val acurr :  0.6141 // train acurr :  0.678825 // learning rate :  3.7567148797337167e-06\n",
      "val acurr :  0.6144 // train acurr :  0.679025 // learning rate :  3.7567148797337167e-06\n",
      "val acurr :  0.6145 // train acurr :  0.67895 // learning rate :  3.7567148797337167e-06\n",
      "val acurr :  0.6142 // train acurr :  0.679025 // learning rate :  3.7567148797337167e-06\n",
      "val acurr :  0.6136 // train acurr :  0.679175 // learning rate :  3.7567148797337167e-06\n",
      "val acurr :  0.614 // train acurr :  0.6792 // learning rate :  3.7567148797337167e-06\n",
      "val acurr :  0.6144 // train acurr :  0.67955 // learning rate :  3.7567148797337167e-06\n",
      "val acurr :  0.6143 // train acurr :  0.680125 // learning rate :  3.7567148797337167e-06\n",
      "val acurr :  0.6143 // train acurr :  0.680625 // learning rate :  3.7567148797337167e-06\n",
      "val acurr :  0.6142 // train acurr :  0.681 // learning rate :  3.7567148797337167e-06\n",
      "val acurr :  0.6144 // train acurr :  0.681175 // learning rate :  3.7567148797337167e-06\n",
      "val acurr :  0.6152 // train acurr :  0.68115 // learning rate :  3.7567148797337167e-06\n",
      "val acurr :  0.6147 // train acurr :  0.6811 // learning rate :  3.7567148797337167e-06\n",
      "val acurr :  0.6148 // train acurr :  0.6813 // learning rate :  3.7567148797337167e-06\n",
      "val acurr :  0.6152 // train acurr :  0.6815 // learning rate :  3.7567148797337167e-06\n",
      "val acurr :  0.6155 // train acurr :  0.681575 // learning rate :  3.7567148797337167e-06\n",
      "val acurr :  0.6146 // train acurr :  0.681775 // learning rate :  3.7567148797337167e-06\n",
      "val acurr :  0.6152 // train acurr :  0.6818 // learning rate :  3.7567148797337167e-06\n",
      "val acurr :  0.6148 // train acurr :  0.682325 // learning rate :  3.7567148797337167e-06\n",
      "val acurr :  0.6146 // train acurr :  0.682675 // learning rate :  3.7567148797337167e-06\n",
      "val acurr :  0.615 // train acurr :  0.683 // learning rate :  3.7567148797337167e-06\n",
      "val acurr :  0.615 // train acurr :  0.6833 // learning rate :  3.7567148797337167e-06\n",
      "val acurr :  0.6156 // train acurr :  0.68345 // learning rate :  3.7567148797337167e-06\n",
      "val acurr :  0.6157 // train acurr :  0.68325 // learning rate :  3.7567148797337167e-06\n",
      "val acurr :  0.6154 // train acurr :  0.683375 // learning rate :  3.7567148797337167e-06\n",
      "val acurr :  0.6159 // train acurr :  0.68335 // learning rate :  3.7567148797337167e-06\n",
      "val acurr :  0.6161 // train acurr :  0.684 // learning rate :  3.7567148797337167e-06\n",
      "val acurr :  0.6164 // train acurr :  0.68365 // learning rate :  3.7567148797337167e-06\n",
      "val acurr :  0.6161 // train acurr :  0.683725 // learning rate :  3.7567148797337167e-06\n",
      "val acurr :  0.616 // train acurr :  0.68375 // learning rate :  3.7567148797337167e-06\n",
      "val acurr :  0.6162 // train acurr :  0.683825 // learning rate :  3.7567148797337167e-06\n",
      "val acurr :  0.6161 // train acurr :  0.683925 // learning rate :  3.7567148797337167e-06\n",
      "val acurr :  0.6161 // train acurr :  0.68395 // learning rate :  3.7567148797337167e-06\n",
      "val acurr :  0.6164 // train acurr :  0.6841 // learning rate :  3.7567148797337167e-06\n",
      "val acurr :  0.6165 // train acurr :  0.684225 // learning rate :  3.7567148797337167e-06\n"
     ]
    },
    {
     "name": "stdout",
     "output_type": "stream",
     "text": [
      "val acurr :  0.6166 // train acurr :  0.684325 // learning rate :  3.7567148797337167e-06\n",
      "val acurr :  0.6162 // train acurr :  0.6845 // learning rate :  3.7567148797337167e-06\n",
      "val acurr :  0.6165 // train acurr :  0.68445 // learning rate :  3.7567148797337167e-06\n",
      "val acurr :  0.6163 // train acurr :  0.68435 // learning rate :  3.7567148797337167e-06\n",
      "val acurr :  0.616 // train acurr :  0.684325 // learning rate :  3.7567148797337167e-06\n",
      "val acurr :  0.6157 // train acurr :  0.684925 // learning rate :  3.7567148797337167e-06\n",
      "val acurr :  0.6161 // train acurr :  0.68515 // learning rate :  3.7567148797337167e-06\n",
      "val acurr :  0.6164 // train acurr :  0.684975 // learning rate :  3.7567148797337167e-06\n",
      "val acurr :  0.6164 // train acurr :  0.685 // learning rate :  3.7567148797337167e-06\n",
      "val acurr :  0.6163 // train acurr :  0.6849 // learning rate :  3.7567148797337167e-06\n",
      "val acurr :  0.6165 // train acurr :  0.685025 // learning rate :  3.7567148797337167e-06\n",
      "val acurr :  0.6159 // train acurr :  0.685275 // learning rate :  3.7567148797337167e-06\n",
      "val acurr :  0.6162 // train acurr :  0.685075 // learning rate :  3.7567148797337167e-06\n",
      "val acurr :  0.6166 // train acurr :  0.684625 // learning rate :  3.7567148797337167e-06\n",
      "val acurr :  0.6161 // train acurr :  0.684925 // learning rate :  3.7567148797337167e-06\n",
      "val acurr :  0.6166 // train acurr :  0.684975 // learning rate :  3.7567148797337167e-06\n",
      "val acurr :  0.6161 // train acurr :  0.68535 // learning rate :  3.7567148797337167e-06\n",
      "val acurr :  0.6164 // train acurr :  0.685675 // learning rate :  3.7567148797337167e-06\n",
      "val acurr :  0.6163 // train acurr :  0.68595 // learning rate :  3.7567148797337167e-06\n",
      "val acurr :  0.6167 // train acurr :  0.6864 // learning rate :  3.7567148797337167e-06\n",
      "val acurr :  0.6168 // train acurr :  0.68665 // learning rate :  3.7567148797337167e-06\n",
      "val acurr :  0.6163 // train acurr :  0.6869 // learning rate :  3.7567148797337167e-06\n",
      "val acurr :  0.6175 // train acurr :  0.687075 // learning rate :  3.7567148797337167e-06\n",
      "val acurr :  0.6173 // train acurr :  0.687275 // learning rate :  3.7567148797337167e-06\n",
      "val acurr :  0.6175 // train acurr :  0.687425 // learning rate :  3.7567148797337167e-06\n",
      "val acurr :  0.6173 // train acurr :  0.687725 // learning rate :  3.7567148797337167e-06\n",
      "val acurr :  0.6181 // train acurr :  0.6879 // learning rate :  3.7567148797337167e-06\n",
      "val acurr :  0.6172 // train acurr :  0.688 // learning rate :  3.7567148797337167e-06\n",
      "val acurr :  0.6166 // train acurr :  0.68795 // learning rate :  3.7567148797337167e-06\n",
      "val acurr :  0.6163 // train acurr :  0.68845 // learning rate :  3.7567148797337167e-06\n",
      "val acurr :  0.6166 // train acurr :  0.688575 // learning rate :  3.7567148797337167e-06\n",
      "val acurr :  0.6163 // train acurr :  0.688825 // learning rate :  3.7567148797337167e-06\n",
      "val acurr :  0.6169 // train acurr :  0.689225 // learning rate :  3.7567148797337167e-06\n",
      "val acurr :  0.6168 // train acurr :  0.6892 // learning rate :  3.7567148797337167e-06\n",
      "val acurr :  0.6167 // train acurr :  0.689375 // learning rate :  3.7567148797337167e-06\n",
      "val acurr :  0.6164 // train acurr :  0.689675 // learning rate :  3.7567148797337167e-06\n",
      "val acurr :  0.6164 // train acurr :  0.6898 // learning rate :  3.7567148797337167e-06\n",
      "val acurr :  0.6165 // train acurr :  0.689775 // learning rate :  3.7567148797337167e-06\n",
      "val acurr :  0.6163 // train acurr :  0.689825 // learning rate :  3.7567148797337167e-06\n",
      "val acurr :  0.6163 // train acurr :  0.689825 // learning rate :  3.7567148797337167e-06\n",
      "val acurr :  0.6165 // train acurr :  0.6896 // learning rate :  3.7567148797337167e-06\n",
      "val acurr :  0.6164 // train acurr :  0.690025 // learning rate :  3.7567148797337167e-06\n",
      "val acurr :  0.6164 // train acurr :  0.69005 // learning rate :  3.7567148797337167e-06\n",
      "val acurr :  0.6163 // train acurr :  0.690175 // learning rate :  3.7567148797337167e-06\n",
      "val acurr :  0.6163 // train acurr :  0.6902 // learning rate :  3.7567148797337167e-06\n",
      "val acurr :  0.6161 // train acurr :  0.690475 // learning rate :  3.7567148797337167e-06\n",
      "val acurr :  0.6162 // train acurr :  0.69075 // learning rate :  3.7567148797337167e-06\n",
      "val acurr :  0.6163 // train acurr :  0.690375 // learning rate :  3.7567148797337167e-06\n",
      "val acurr :  0.6165 // train acurr :  0.690675 // learning rate :  3.7567148797337167e-06\n",
      "val acurr :  0.6163 // train acurr :  0.690925 // learning rate :  3.7567148797337167e-06\n",
      "val acurr :  0.6158 // train acurr :  0.690775 // learning rate :  3.7567148797337167e-06\n",
      "val acurr :  0.6166 // train acurr :  0.69105 // learning rate :  3.7567148797337167e-06\n",
      "val acurr :  0.6173 // train acurr :  0.691 // learning rate :  3.7567148797337167e-06\n",
      "val acurr :  0.6174 // train acurr :  0.6914 // learning rate :  3.7567148797337167e-06\n",
      "val acurr :  0.6176 // train acurr :  0.6912 // learning rate :  3.7567148797337167e-06\n",
      "val acurr :  0.6182 // train acurr :  0.690975 // learning rate :  3.7567148797337167e-06\n",
      "val acurr :  0.6186 // train acurr :  0.691225 // learning rate :  3.7567148797337167e-06\n",
      "val acurr :  0.6188 // train acurr :  0.691225 // learning rate :  3.7567148797337167e-06\n",
      "val acurr :  0.618 // train acurr :  0.691275 // learning rate :  3.7567148797337167e-06\n",
      "val acurr :  0.6172 // train acurr :  0.69115 // learning rate :  3.7567148797337167e-06\n",
      "val acurr :  0.6175 // train acurr :  0.690875 // learning rate :  3.7567148797337167e-06\n",
      "val acurr :  0.6169 // train acurr :  0.69085 // learning rate :  3.7567148797337167e-06\n",
      "val acurr :  0.6169 // train acurr :  0.691225 // learning rate :  3.7567148797337167e-06\n",
      "val acurr :  0.6172 // train acurr :  0.691425 // learning rate :  3.7567148797337167e-06\n",
      "val acurr :  0.6174 // train acurr :  0.691375 // learning rate :  3.7567148797337167e-06\n",
      "val acurr :  0.6172 // train acurr :  0.69155 // learning rate :  3.7567148797337167e-06\n",
      "val acurr :  0.6172 // train acurr :  0.69175 // learning rate :  3.7567148797337167e-06\n",
      "val acurr :  0.6169 // train acurr :  0.691625 // learning rate :  3.7567148797337167e-06\n",
      "val acurr :  0.6164 // train acurr :  0.69145 // learning rate :  3.7567148797337167e-06\n",
      "val acurr :  0.6159 // train acurr :  0.69165 // learning rate :  3.7567148797337167e-06\n",
      "val acurr :  0.6162 // train acurr :  0.691925 // learning rate :  3.7567148797337167e-06\n",
      "val acurr :  0.6164 // train acurr :  0.692075 // learning rate :  3.7567148797337167e-06\n",
      "val acurr :  0.6166 // train acurr :  0.692625 // learning rate :  3.7567148797337167e-06\n",
      "val acurr :  0.6173 // train acurr :  0.69315 // learning rate :  3.7567148797337167e-06\n",
      "val acurr :  0.6175 // train acurr :  0.693475 // learning rate :  3.7567148797337167e-06\n",
      "val acurr :  0.6174 // train acurr :  0.693725 // learning rate :  3.7567148797337167e-06\n",
      "val acurr :  0.6175 // train acurr :  0.693725 // learning rate :  3.7567148797337167e-06\n",
      "val acurr :  0.6174 // train acurr :  0.69435 // learning rate :  3.7567148797337167e-06\n",
      "val acurr :  0.6172 // train acurr :  0.69435 // learning rate :  3.7567148797337167e-06\n",
      "val acurr :  0.6172 // train acurr :  0.69455 // learning rate :  3.7567148797337167e-06\n",
      "val acurr :  0.6173 // train acurr :  0.6946 // learning rate :  3.7567148797337167e-06\n",
      "val acurr :  0.6175 // train acurr :  0.694675 // learning rate :  3.7567148797337167e-06\n",
      "val acurr :  0.6168 // train acurr :  0.69485 // learning rate :  3.7567148797337167e-06\n",
      "val acurr :  0.6179 // train acurr :  0.69505 // learning rate :  3.7567148797337167e-06\n",
      "val acurr :  0.6172 // train acurr :  0.695525 // learning rate :  3.7567148797337167e-06\n",
      "val acurr :  0.6166 // train acurr :  0.69555 // learning rate :  3.7567148797337167e-06\n",
      "val acurr :  0.6161 // train acurr :  0.69575 // learning rate :  3.7567148797337167e-06\n",
      "val acurr :  0.6166 // train acurr :  0.6956 // learning rate :  3.7567148797337167e-06\n",
      "val acurr :  0.6167 // train acurr :  0.6959 // learning rate :  3.7567148797337167e-06\n",
      "val acurr :  0.6169 // train acurr :  0.695925 // learning rate :  3.7567148797337167e-06\n",
      "val acurr :  0.6167 // train acurr :  0.695825 // learning rate :  3.7567148797337167e-06\n",
      "val acurr :  0.6171 // train acurr :  0.695975 // learning rate :  3.7567148797337167e-06\n"
     ]
    },
    {
     "name": "stdout",
     "output_type": "stream",
     "text": [
      "val acurr :  0.6165 // train acurr :  0.6961 // learning rate :  3.7567148797337167e-06\n",
      "val acurr :  0.6171 // train acurr :  0.6964 // learning rate :  3.7567148797337167e-06\n",
      "val acurr :  0.6174 // train acurr :  0.69655 // learning rate :  3.7567148797337167e-06\n",
      "val acurr :  0.618 // train acurr :  0.696925 // learning rate :  3.7567148797337167e-06\n",
      "val acurr :  0.6179 // train acurr :  0.69705 // learning rate :  3.7567148797337167e-06\n",
      "val acurr :  0.6178 // train acurr :  0.697175 // learning rate :  3.7567148797337167e-06\n",
      "val acurr :  0.617 // train acurr :  0.697325 // learning rate :  3.7567148797337167e-06\n",
      "val acurr :  0.6164 // train acurr :  0.697475 // learning rate :  3.7567148797337167e-06\n",
      "val acurr :  0.6168 // train acurr :  0.6974 // learning rate :  3.7567148797337167e-06\n",
      "val acurr :  0.6164 // train acurr :  0.697725 // learning rate :  3.7567148797337167e-06\n",
      "val acurr :  0.6164 // train acurr :  0.69775 // learning rate :  3.7567148797337167e-06\n",
      "val acurr :  0.6163 // train acurr :  0.697925 // learning rate :  3.7567148797337167e-06\n",
      "val acurr :  0.6162 // train acurr :  0.697975 // learning rate :  3.7567148797337167e-06\n",
      "val acurr :  0.6164 // train acurr :  0.698025 // learning rate :  3.7567148797337167e-06\n",
      "val acurr :  0.6162 // train acurr :  0.697925 // learning rate :  3.7567148797337167e-06\n",
      "Finished Training\n"
     ]
    }
   ],
   "source": [
    "\n",
    "for epoch in range(200):   # 데이터셋을 수차례 반복합니다.\n",
    "    \n",
    "    total_tra = 0\n",
    "    correct_tra = 0\n",
    "    running_loss = 0.0\n",
    "    # train 데이터 이용한 학습\n",
    "    for i in range(X_train.shape[0]):\n",
    "        inputs = X_train[i].to(device)\n",
    "        labels = y_train[i].to(device)\n",
    "\n",
    "        # 변화도(Gradient) 매개변수를 0으로 만들고\n",
    "        optimizer.zero_grad()\n",
    "\n",
    "        outputs = net(inputs)\n",
    "        \n",
    "        _, predicted = torch.max(outputs.data, 1)\n",
    "        total_tra += labels.shape[0]\n",
    "        correct_tra += (predicted == labels).sum().item()\n",
    "        \n",
    "        loss = criterion(outputs, labels)\n",
    "        loss.backward()\n",
    "        optimizer.step()\n",
    "\n",
    "        # 통계를 출력합니다.\n",
    "        running_loss += loss.item()\n",
    "        if i % 8 == 7:    # print every 2000 mini-batches\n",
    "            #print('[%d, %5d] loss: %.3f' %(epoch + 1, i + 1, running_loss /batch_size))\n",
    "            running_loss = 0.0\n",
    "            \n",
    "    total_val = 0\n",
    "    correct_val = 0\n",
    "    for i in range(X_vali.shape[0]):\n",
    "        inputs = X_vali[i].to(device)\n",
    "        labels = y_vali[i].to(device)\n",
    "        \n",
    "        outputs = net(inputs)\n",
    "        _, predicted = torch.max(outputs.data, 1)\n",
    "        total_val += labels.shape[0]\n",
    "        correct_val += (predicted == labels).sum().item()\n",
    "    print(\"val acurr : \", correct_val/total_val ,end = \" // \")\n",
    "    print(\"train acurr : \", correct_tra/total_tra ,end = \" // \")\n",
    "    print(\"learning rate : \", learning_rate)\n",
    "print('Finished Training')"
   ]
  },
  {
   "cell_type": "code",
   "execution_count": 189,
   "metadata": {},
   "outputs": [],
   "source": [
    "PATH = './cifar_net.pth'\n",
    "torch.save(net.state_dict(), PATH)\n"
   ]
  },
  {
   "cell_type": "code",
   "execution_count": 192,
   "metadata": {},
   "outputs": [
    {
     "data": {
      "image/png": "[encoded data removed]",
      "text/plain": [
       "<Figure size 432x288 with 1 Axes>"
      ]
     },
     "metadata": {
      "needs_background": "light"
     },
     "output_type": "display_data"
    },
    {
     "name": "stdout",
     "output_type": "stream",
     "text": [
      "ans :  ship\n"
     ]
    },
    {
     "data": {
      "image/png": "[encoded data removed]",
      "text/plain": [
       "<Figure size 432x288 with 1 Axes>"
      ]
     },
     "metadata": {
      "needs_background": "light"
     },
     "output_type": "display_data"
    },
    {
     "name": "stdout",
     "output_type": "stream",
     "text": [
      "ans :  car\n",
      "predict : car car\n"
     ]
    }
   ],
   "source": [
    "import matplotlib.pyplot as plt\n",
    "import numpy as np\n",
    "\n",
    "# 이미지를 보여주기 위한 함수\n",
    "\n",
    "def imshow(img):\n",
    "    img = img / 2 + 0.5     # unnormalize\n",
    "    #npimg = img.numpy()\n",
    "    #print(img)\n",
    "    plt.imshow(np.transpose(img.astype(\"int\"), (1, 2, 0)))\n",
    "    plt.show()\n",
    "\n",
    "\n",
    "# 학습용 이미지를 무작위로 가져오기\n",
    "images=[]\n",
    "for k in range(2):\n",
    "    i = random.randint(1,64)\n",
    "    j = random.randint(1,625)\n",
    "    images.append(X_tra[i][j])\n",
    "    imshow(X_tra[i][j])\n",
    "    print(\"ans : \",classes[y_tra[i][j]])\n",
    "\n",
    "images=torch.tensor(images).to(device)\n",
    "output = net(images)\n",
    "_, predicted = torch.max(output, 1)\n",
    "print(\"predict :\" ,classes[predicted[0]],classes[predicted[1]])\n",
    "\n"
   ]
  },
  {
   "cell_type": "code",
   "execution_count": 193,
   "metadata": {},
   "outputs": [
    {
     "name": "stdout",
     "output_type": "stream",
     "text": [
      "Accuracy of the network on the 10000 test images: 61.380000 %\n"
     ]
    }
   ],
   "source": [
    "correct = 0\n",
    "total = 0\n",
    "with torch.no_grad():\n",
    "    for i in range(X_test.shape[0]):\n",
    "        images = X_test[i].to(device)\n",
    "        labels = y_test[i].to(device)\n",
    "        outputs = net(images)\n",
    "        _, predicted = torch.max(outputs.data, 1)\n",
    "        total += labels.shape[0]\n",
    "        correct += (predicted == labels).sum().item()\n",
    "\n",
    "print('Accuracy of the network on the 10000 test images: %f %%' % (\n",
    "    100 * correct / total))"
   ]
  },
  {
   "cell_type": "code",
   "execution_count": 194,
   "metadata": {},
   "outputs": [
    {
     "name": "stdout",
     "output_type": "stream",
     "text": [
      "class :  plane  //  acur :  0.632\n",
      "class :  car  //  acur :  0.725\n",
      "class :  bird  //  acur :  0.5\n",
      "class :  cat  //  acur :  0.425\n",
      "class :  deer  //  acur :  0.518\n",
      "class :  dog  //  acur :  0.496\n",
      "class :  frog  //  acur :  0.771\n",
      "class :  horse  //  acur :  0.628\n",
      "class :  ship  //  acur :  0.76\n",
      "class :  truck  //  acur :  0.683\n"
     ]
    }
   ],
   "source": [
    "class_correct = np.zeros(10)\n",
    "class_total = np.zeros(10)\n",
    "with torch.no_grad():\n",
    "    for i in range(X_test.shape[0]):\n",
    "        images = X_test[i].to(device)\n",
    "        labels = y_test[i].to(device)\n",
    "        outputs = net(images)\n",
    "        _, predicted = torch.max(outputs.data, 1)\n",
    "        for j in range(labels.shape[0]):\n",
    "            class_total[labels[j]] += 1\n",
    "            if labels[j] == predicted[j]:\n",
    "                class_correct[labels[j]] += 1\n",
    "\n",
    "for i in range(10):         \n",
    "    print(\"class : \",classes[i] , \" // \", \"acur : \" ,class_correct[i]/class_total[i])\n"
   ]
  },
  {
   "cell_type": "code",
   "execution_count": null,
   "metadata": {},
   "outputs": [],
   "source": []
  }
 ],
 "metadata": {
  "kernelspec": {
   "display_name": "Python 3",
   "language": "python",
   "name": "python3"
  },
  "language_info": {
   "codemirror_mode": {
    "name": "ipython",
    "version": 3
   },
   "file_extension": ".py",
   "mimetype": "text/x-python",
   "name": "python",
   "nbconvert_exporter": "python",
   "pygments_lexer": "ipython3",
   "version": "3.8.5"
  }
 },
 "nbformat": 4,
 "nbformat_minor": 4
}
